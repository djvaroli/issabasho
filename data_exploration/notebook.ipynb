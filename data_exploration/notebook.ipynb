{
  "cells": [
    {
      "cell_type": "code",
      "metadata": {
        "tags": [],
        "cell_id": "00001-779fb742-2c42-4667-9dc4-f02f9a24099a",
        "deepnote_to_be_reexecuted": false,
        "source_hash": "3b23f390",
        "execution_millis": 100,
        "execution_start": 1618105204538,
        "deepnote_cell_type": "code"
      },
      "source": "from bs4 import BeautifulSoup\nimport requests",
      "outputs": [],
      "execution_count": null
    },
    {
      "cell_type": "code",
      "metadata": {
        "tags": [],
        "cell_id": "00001-c4e3de94-4095-4f44-b49d-e75f9be5fdbc",
        "deepnote_to_be_reexecuted": false,
        "source_hash": "a7365693",
        "execution_millis": 1424,
        "execution_start": 1618105206285,
        "deepnote_cell_type": "code"
      },
      "source": "url = \"http://haikuguy.com/issa/search.php\"\nr = requests.get(url)\nr.status_code",
      "outputs": [
        {
          "output_type": "execute_result",
          "execution_count": 5,
          "data": {
            "text/plain": "200"
          },
          "metadata": {}
        }
      ],
      "execution_count": null
    },
    {
      "cell_type": "code",
      "metadata": {
        "tags": [],
        "cell_id": "00002-a894e17c-d59f-4e4e-b280-585de9714e98",
        "deepnote_to_be_reexecuted": false,
        "source_hash": "5a597942",
        "execution_millis": 5786,
        "execution_start": 1618105208668,
        "deepnote_cell_type": "code"
      },
      "source": "from bs4 import BeautifulSoup\nsoup = BeautifulSoup(r.text, 'html.parser')",
      "outputs": [],
      "execution_count": null
    },
    {
      "cell_type": "code",
      "metadata": {
        "tags": [],
        "cell_id": "00003-3bedc7cf-c30a-4a93-974b-c6a3ed9870c1",
        "deepnote_to_be_reexecuted": false,
        "source_hash": "1d1fa7cd",
        "execution_millis": 830,
        "execution_start": 1618105214455,
        "deepnote_cell_type": "code"
      },
      "source": "english = soup.find_all(\"p\", {\"class\": \"english\"})",
      "outputs": [],
      "execution_count": null
    },
    {
      "cell_type": "code",
      "metadata": {
        "tags": [],
        "cell_id": "00006-67801452-1fc5-4fb4-8dab-2dbbc704f8c1",
        "deepnote_to_be_reexecuted": false,
        "source_hash": "28117d11",
        "execution_millis": 38,
        "execution_start": 1618105215329,
        "deepnote_cell_type": "code"
      },
      "source": "english_haikus = []\nfor p in english:\n    text = p.text.replace(\"\\n\", \" \").strip()\n    english_haikus.append(text)",
      "outputs": [],
      "execution_count": null
    },
    {
      "cell_type": "code",
      "metadata": {
        "tags": [],
        "cell_id": "00006-85e8b385-6e4d-4189-9243-a234fb1c9572",
        "deepnote_to_be_reexecuted": false,
        "source_hash": "17f68e39",
        "execution_millis": 5,
        "execution_start": 1618105354750,
        "deepnote_cell_type": "code"
      },
      "source": "len(english_haikus)",
      "outputs": [
        {
          "output_type": "execute_result",
          "execution_count": 9,
          "data": {
            "text/plain": "10760"
          },
          "metadata": {}
        }
      ],
      "execution_count": null
    },
    {
      "cell_type": "code",
      "metadata": {
        "tags": [],
        "cell_id": "00007-5271d6c4-2737-4df8-8f6b-7661a6e54368",
        "deepnote_to_be_reexecuted": false,
        "source_hash": "3d83f99f",
        "execution_millis": 36,
        "execution_start": 1618105356863,
        "deepnote_cell_type": "code"
      },
      "source": "import random\nimport string\n\npunct = string.punctuation\npunct = punct.replace(\"'\", \"\")\npunct = punct.replace(\"-\", \"\")\n\nhaikus_no_punct = []\nfor h in english_haikus:\n    for p in punct:\n        h = h.replace(p, \"\")\n    haikus_no_punct.append(h)",
      "outputs": [],
      "execution_count": null
    },
    {
      "cell_type": "code",
      "metadata": {
        "tags": [],
        "cell_id": "00010-e901ffba-4492-4ac0-8b40-b3d463654361",
        "deepnote_to_be_reexecuted": false,
        "source_hash": "66605a90",
        "execution_millis": 2290,
        "execution_start": 1618105359059,
        "deepnote_cell_type": "code"
      },
      "source": "import tensorflow as tf\nfrom tensorflow.keras.preprocessing.sequence import pad_sequences\nfrom tensorflow.keras import models, layers, optimizers, losses, activations\nfrom keras.utils import to_categorical\nimport keras\nimport numpy as np",
      "outputs": [],
      "execution_count": null
    },
    {
      "cell_type": "code",
      "metadata": {
        "tags": [],
        "cell_id": "00010-80081b04-0a52-4619-8cc9-0de78ef4b6b9",
        "deepnote_to_be_reexecuted": false,
        "source_hash": "cd1dc025",
        "execution_millis": 4,
        "execution_start": 1618105363440,
        "deepnote_cell_type": "code"
      },
      "source": "tokenizer = tf.keras.preprocessing.text.Tokenizer()",
      "outputs": [],
      "execution_count": null
    },
    {
      "cell_type": "code",
      "metadata": {
        "tags": [],
        "cell_id": "00011-1231b354-65ad-4aed-982d-2306ed3cd3d2",
        "deepnote_to_be_reexecuted": false,
        "source_hash": "16bd375d",
        "execution_millis": 128,
        "execution_start": 1618105363483,
        "deepnote_cell_type": "code"
      },
      "source": "tokenizer.fit_on_texts(haikus_no_punct)",
      "outputs": [],
      "execution_count": null
    },
    {
      "cell_type": "code",
      "metadata": {
        "tags": [],
        "cell_id": "00012-4dbe392d-026b-4af2-afd5-80742ab6c751",
        "deepnote_to_be_reexecuted": false,
        "source_hash": "2454e682",
        "execution_millis": 46,
        "execution_start": 1618105363750,
        "deepnote_cell_type": "code"
      },
      "source": "tokens = tokenizer.texts_to_sequences(haikus_no_punct) # convert to dense-encoded sequences\ntokens = pad_sequences(tokens) # pad them to all have the same length",
      "outputs": [],
      "execution_count": null
    },
    {
      "cell_type": "code",
      "metadata": {
        "tags": [],
        "cell_id": "00014-5dcae893-027c-4e16-af6c-8124ae9ef267",
        "deepnote_to_be_reexecuted": false,
        "source_hash": "ae2e2f04",
        "execution_millis": 45,
        "execution_start": 1618105365874,
        "deepnote_cell_type": "code"
      },
      "source": "tokens.shape # verify that n_rows matches the number of haikus",
      "outputs": [
        {
          "output_type": "execute_result",
          "execution_count": 15,
          "data": {
            "text/plain": "(10760, 15)"
          },
          "metadata": {}
        }
      ],
      "execution_count": null
    },
    {
      "cell_type": "code",
      "metadata": {
        "tags": [],
        "cell_id": "00013-e991cf74-cf0d-490a-90db-6f6fddfd7764",
        "deepnote_to_be_reexecuted": false,
        "source_hash": "48b1b0cc",
        "execution_millis": 2,
        "execution_start": 1618105555059,
        "deepnote_cell_type": "code"
      },
      "source": "vocab_size = len(tokenizer.index_word) + 1",
      "outputs": [],
      "execution_count": null
    },
    {
      "cell_type": "code",
      "metadata": {
        "tags": [],
        "cell_id": "00013-af5b9fee-9e6e-4b8b-a21d-563f02239a5f",
        "deepnote_to_be_reexecuted": false,
        "source_hash": "2fdeb8c4",
        "execution_millis": 9,
        "execution_start": 1618106808489,
        "deepnote_cell_type": "code"
      },
      "source": "X = tokens[:,:-1]\ny = tokens[:,1:]\nprint(X.shape, y.shape)",
      "outputs": [
        {
          "name": "stdout",
          "text": "(10760, 14) (10760, 14)\n",
          "output_type": "stream"
        }
      ],
      "execution_count": null
    },
    {
      "cell_type": "code",
      "source": "# create some fakish Haikus where we replace between 1 - 3 random words with another random word but use same target\n# however, cannot replace a 0 and cannot leave a word stranded, i.e. must have at least one adjacent word\n\nn_fakes = 10000\nnon_zero_mask = (tokens != 0.).astype(np.int32)\nrandom_samples_ixs = np.random.randint(0, tokens.shape[0], size=n_fakes)\nX_fake, y_fake = X[random_samples_ixs], y[random_samples_ixs]\nfor i, row in enumerate(X_fake):\n    try:\n        r_nz_start = row.nonzero()[0][0]\n    except:\n        print(i, row)\n    n_replace = np.random.randint(low=1, high=4)\n    ix_to_replace = np.random.randint(low=r_nz_start, high=row.shape[-1], size=n_replace)\n    replace_with = np.random.randint(low=1, high=vocab_size - 1, size=n_replace)\n    row[ix_to_replace] = replace_with\nX = np.vstack([X, X_fake])\ny = np.vstack([y, y_fake])",
      "metadata": {
        "tags": [],
        "cell_id": "00014-31ff47ba-cfa3-4598-ae6b-7e9f04b6cb99",
        "deepnote_to_be_reexecuted": false,
        "source_hash": "eb6edd27",
        "execution_millis": 322,
        "execution_start": 1618106810642,
        "deepnote_cell_type": "code"
      },
      "outputs": [],
      "execution_count": null
    },
    {
      "cell_type": "code",
      "source": "X.shape, y.shape",
      "metadata": {
        "tags": [],
        "cell_id": "00015-d3cb9a14-9942-4c0a-8f0b-41a04d380912",
        "deepnote_to_be_reexecuted": false,
        "source_hash": "7d703947",
        "execution_start": 1618106818786,
        "execution_millis": 13,
        "deepnote_cell_type": "code"
      },
      "outputs": [
        {
          "output_type": "execute_result",
          "execution_count": 76,
          "data": {
            "text/plain": "((20760, 14), (20760, 14))"
          },
          "metadata": {}
        }
      ],
      "execution_count": null
    },
    {
      "cell_type": "code",
      "metadata": {
        "tags": [],
        "cell_id": "00014-aba7872a-6e3a-40c3-a0f1-7852e78a4eef",
        "deepnote_to_be_reexecuted": false,
        "source_hash": "df9e3986",
        "execution_millis": 676,
        "execution_start": 1618106828025,
        "deepnote_cell_type": "code"
      },
      "source": "y_categorical = to_categorical(y, num_classes=vocab_size)\nprint(y_categorical.shape)",
      "outputs": [
        {
          "name": "stdout",
          "text": "(20760, 14, 7027)\n",
          "output_type": "stream"
        }
      ],
      "execution_count": null
    },
    {
      "cell_type": "code",
      "source": "embedding_dimension = 64\nM = 64",
      "metadata": {
        "tags": [],
        "cell_id": "00017-17240471-7742-4ba1-98f8-afcd405eee39",
        "deepnote_to_be_reexecuted": false,
        "source_hash": "142d0187",
        "execution_start": 1618106862422,
        "execution_millis": 1,
        "deepnote_cell_type": "code"
      },
      "outputs": [],
      "execution_count": null
    },
    {
      "cell_type": "code",
      "metadata": {
        "tags": [],
        "cell_id": "00015-9c519521-f1a7-42d1-a606-5c9c05c99774",
        "deepnote_to_be_reexecuted": false,
        "source_hash": "8942c1b4",
        "execution_millis": 592,
        "execution_start": 1618106864485,
        "deepnote_cell_type": "code"
      },
      "source": "i = layers.Input(shape=(X.shape[-1],))\nx = layers.Embedding(vocab_size, embedding_dimension)(i)\n\nx = layers.LSTM(M, return_sequences=True)(x)\nx = layers.LSTM(M, return_sequences=True)(x)\nx = layers.Dense(M)(x)\nx = layers.LeakyReLU(alpha=0.2)(x)\nx = layers.Dropout(0.3)(x)\nx = layers.BatchNormalization()(x)\no = layers.Dense(vocab_size, activation='softmax')(x)\nmodel = models.Model(i, o)\n\nmodel.compile(loss='categorical_crossentropy', optimizer='adam')",
      "outputs": [],
      "execution_count": null
    },
    {
      "cell_type": "code",
      "source": "model.summary()",
      "metadata": {
        "tags": [],
        "cell_id": "00017-66b3fa9d-dd06-42a1-8240-c76db97d3e7f",
        "deepnote_to_be_reexecuted": false,
        "source_hash": "4e6a3b95",
        "execution_millis": 11,
        "execution_start": 1618106867156,
        "deepnote_cell_type": "code"
      },
      "outputs": [
        {
          "name": "stdout",
          "text": "Model: \"model_3\"\n_________________________________________________________________\nLayer (type)                 Output Shape              Param #   \n=================================================================\ninput_4 (InputLayer)         [(None, 14)]              0         \n_________________________________________________________________\nembedding_3 (Embedding)      (None, 14, 64)            449728    \n_________________________________________________________________\nlstm_6 (LSTM)                (None, 14, 64)            33024     \n_________________________________________________________________\nlstm_7 (LSTM)                (None, 14, 64)            33024     \n_________________________________________________________________\ndense_8 (Dense)              (None, 14, 64)            4160      \n_________________________________________________________________\nleaky_re_lu_3 (LeakyReLU)    (None, 14, 64)            0         \n_________________________________________________________________\ndropout_5 (Dropout)          (None, 14, 64)            0         \n_________________________________________________________________\nbatch_normalization_5 (Batch (None, 14, 64)            256       \n_________________________________________________________________\ndense_9 (Dense)              (None, 14, 7027)          456755    \n=================================================================\nTotal params: 976,947\nTrainable params: 976,819\nNon-trainable params: 128\n_________________________________________________________________\n",
          "output_type": "stream"
        }
      ],
      "execution_count": null
    },
    {
      "cell_type": "markdown",
      "source": "Plain LSTM encoder Decoder model does not work at all.\n\nPossible step: edit model and data to predict sequence\n\nUsing 0 -> -1 sequence as input and 1 - > end sequence as output seems to work better, val loss goes down\n\nTrying BiDi LSTM for better resutls\n\nAlso need to increase dimensions (currently using 32 -> Embed and 32 - > LSTM)\n\nSeems to focus on cuckoo and sings a lot previous version may have been better\n\nTried the approach of adding randomness to the haikus, took 10k randomly sampled from train dataset\n\nThen selected between 1 - 3 random words and replaced with another random word sampled from the entire vocab, but kept \n\ntargets same as in the untouched version of the Haiku. The idea being that Haikus may have a specific starting pattern so \n\nanything that does not fit it will lead to word repetition. This approach seems to have helped the model learn better and \n\nseems to have addressed the repetition issue. Will try deploying this as a start. ",
      "metadata": {
        "tags": [],
        "cell_id": "00017-0f7dea22-b4bd-4fca-9762-de04473b67ab",
        "deepnote_cell_type": "markdown"
      }
    },
    {
      "cell_type": "code",
      "metadata": {
        "tags": [],
        "cell_id": "00017-d65bc155-8e29-444b-ad2d-54dc4f69b108",
        "deepnote_to_be_reexecuted": false,
        "source_hash": "171ba10e",
        "execution_millis": 151093,
        "execution_start": 1618106870568,
        "deepnote_cell_type": "code"
      },
      "source": "model.fit(X, y_categorical, validation_split=0.2, epochs=10, batch_size=30)",
      "outputs": [
        {
          "name": "stdout",
          "text": "Epoch 1/10\n554/554 [==============================] - 20s 30ms/step - loss: 6.1050 - val_loss: 4.2785\nEpoch 2/10\n554/554 [==============================] - 14s 25ms/step - loss: 4.2493 - val_loss: 4.1622\nEpoch 3/10\n554/554 [==============================] - 14s 25ms/step - loss: 4.0549 - val_loss: 3.9960\nEpoch 4/10\n554/554 [==============================] - 14s 25ms/step - loss: 3.8954 - val_loss: 3.9013\nEpoch 5/10\n554/554 [==============================] - 14s 25ms/step - loss: 3.7613 - val_loss: 3.8599\nEpoch 6/10\n554/554 [==============================] - 14s 25ms/step - loss: 3.6618 - val_loss: 3.7884\nEpoch 7/10\n554/554 [==============================] - 14s 25ms/step - loss: 3.5814 - val_loss: 3.7590\nEpoch 8/10\n554/554 [==============================] - 14s 25ms/step - loss: 3.5043 - val_loss: 3.7058\nEpoch 9/10\n554/554 [==============================] - 14s 25ms/step - loss: 3.4306 - val_loss: 3.6864\nEpoch 10/10\n554/554 [==============================] - 14s 25ms/step - loss: 3.3518 - val_loss: 3.6526\n",
          "output_type": "stream"
        },
        {
          "output_type": "execute_result",
          "execution_count": 82,
          "data": {
            "text/plain": "<tensorflow.python.keras.callbacks.History at 0x7fd002dbb0b8>"
          },
          "metadata": {}
        }
      ],
      "execution_count": null
    },
    {
      "cell_type": "code",
      "source": "import plotly.express as px\nimport plotly.graph_objects as go\n\nloss = model.history.history['loss']\nval_loss = model.history.history['val_loss']\nx = list(range(len(loss)))\n\nfig = go.Figure()\nfig.add_trace(go.Scatter(x=x, y=loss, mode=\"lines+markers\", name=\"Train Loss\"))\nfig.add_trace(go.Scatter(x=x, y=val_loss,mode=\"lines+markers\", name=\"Validation Loss\"))\nfig.show()",
      "metadata": {
        "tags": [],
        "cell_id": "00019-1ba2bbb6-d787-4a54-8f74-877ab1aa4a3b",
        "deepnote_to_be_reexecuted": false,
        "source_hash": "376b84",
        "execution_millis": 9,
        "execution_start": 1618107024229,
        "deepnote_cell_type": "code"
      },
      "outputs": [
        {
          "data": {
            "text/html": "<html>\n<head><meta charset=\"utf-8\" /></head>\n<body>\n    <div>            <script src=\"https://cdnjs.cloudflare.com/ajax/libs/mathjax/2.7.5/MathJax.js?config=TeX-AMS-MML_SVG\"></script><script type=\"text/javascript\">if (window.MathJax) {MathJax.Hub.Config({SVG: {font: \"STIX-Web\"}});}</script>                <script type=\"text/javascript\">window.PlotlyConfig = {MathJaxConfig: 'local'};</script>\n        <script src=\"https://cdn.plot.ly/plotly-latest.min.js\"></script>                <div id=\"01c02974-3535-48b5-8aa6-18de54c39417\" class=\"plotly-graph-div\" style=\"height:525px; width:100%;\"></div>            <script type=\"text/javascript\">                                    window.PLOTLYENV=window.PLOTLYENV || {};                                    if (document.getElementById(\"01c02974-3535-48b5-8aa6-18de54c39417\")) {                    Plotly.newPlot(                        \"01c02974-3535-48b5-8aa6-18de54c39417\",                        [{\"mode\": \"lines+markers\", \"name\": \"Train Loss\", \"type\": \"scatter\", \"x\": [0, 1, 2, 3, 4, 5, 6, 7, 8, 9], \"y\": [5.0565571784973145, 4.209391117095947, 4.0317606925964355, 3.884751558303833, 3.7673757076263428, 3.672482967376709, 3.5915048122406006, 3.516305923461914, 3.447530746459961, 3.3758866786956787]}, {\"mode\": \"lines+markers\", \"name\": \"Validation Loss\", \"type\": \"scatter\", \"x\": [0, 1, 2, 3, 4, 5, 6, 7, 8, 9], \"y\": [4.278511047363281, 4.162174224853516, 3.9960241317749023, 3.9013140201568604, 3.859949827194214, 3.78837251663208, 3.7590019702911377, 3.7057533264160156, 3.6864473819732666, 3.652595043182373]}],                        {\"template\": {\"data\": {\"bar\": [{\"error_x\": {\"color\": \"#2a3f5f\"}, \"error_y\": {\"color\": \"#2a3f5f\"}, \"marker\": {\"line\": {\"color\": \"#E5ECF6\", \"width\": 0.5}}, \"type\": \"bar\"}], \"barpolar\": [{\"marker\": {\"line\": {\"color\": \"#E5ECF6\", \"width\": 0.5}}, \"type\": \"barpolar\"}], \"carpet\": [{\"aaxis\": {\"endlinecolor\": \"#2a3f5f\", \"gridcolor\": \"white\", \"linecolor\": \"white\", \"minorgridcolor\": \"white\", \"startlinecolor\": \"#2a3f5f\"}, \"baxis\": {\"endlinecolor\": \"#2a3f5f\", \"gridcolor\": \"white\", \"linecolor\": \"white\", \"minorgridcolor\": \"white\", \"startlinecolor\": \"#2a3f5f\"}, \"type\": \"carpet\"}], \"choropleth\": [{\"colorbar\": {\"outlinewidth\": 0, \"ticks\": \"\"}, \"type\": \"choropleth\"}], \"contour\": [{\"colorbar\": {\"outlinewidth\": 0, \"ticks\": \"\"}, \"colorscale\": [[0.0, \"#0d0887\"], [0.1111111111111111, \"#46039f\"], [0.2222222222222222, \"#7201a8\"], [0.3333333333333333, \"#9c179e\"], [0.4444444444444444, \"#bd3786\"], [0.5555555555555556, \"#d8576b\"], [0.6666666666666666, \"#ed7953\"], [0.7777777777777778, \"#fb9f3a\"], [0.8888888888888888, \"#fdca26\"], [1.0, \"#f0f921\"]], \"type\": \"contour\"}], \"contourcarpet\": [{\"colorbar\": {\"outlinewidth\": 0, \"ticks\": \"\"}, \"type\": \"contourcarpet\"}], \"heatmap\": [{\"colorbar\": {\"outlinewidth\": 0, \"ticks\": \"\"}, \"colorscale\": [[0.0, \"#0d0887\"], [0.1111111111111111, \"#46039f\"], [0.2222222222222222, \"#7201a8\"], [0.3333333333333333, \"#9c179e\"], [0.4444444444444444, \"#bd3786\"], [0.5555555555555556, \"#d8576b\"], [0.6666666666666666, \"#ed7953\"], [0.7777777777777778, \"#fb9f3a\"], [0.8888888888888888, \"#fdca26\"], [1.0, \"#f0f921\"]], \"type\": \"heatmap\"}], \"heatmapgl\": [{\"colorbar\": {\"outlinewidth\": 0, \"ticks\": \"\"}, \"colorscale\": [[0.0, \"#0d0887\"], [0.1111111111111111, \"#46039f\"], [0.2222222222222222, \"#7201a8\"], [0.3333333333333333, \"#9c179e\"], [0.4444444444444444, \"#bd3786\"], [0.5555555555555556, \"#d8576b\"], [0.6666666666666666, \"#ed7953\"], [0.7777777777777778, \"#fb9f3a\"], [0.8888888888888888, \"#fdca26\"], [1.0, \"#f0f921\"]], \"type\": \"heatmapgl\"}], \"histogram\": [{\"marker\": {\"colorbar\": {\"outlinewidth\": 0, \"ticks\": \"\"}}, \"type\": \"histogram\"}], \"histogram2d\": [{\"colorbar\": {\"outlinewidth\": 0, \"ticks\": \"\"}, \"colorscale\": [[0.0, \"#0d0887\"], [0.1111111111111111, \"#46039f\"], [0.2222222222222222, \"#7201a8\"], [0.3333333333333333, \"#9c179e\"], [0.4444444444444444, \"#bd3786\"], [0.5555555555555556, \"#d8576b\"], [0.6666666666666666, \"#ed7953\"], [0.7777777777777778, \"#fb9f3a\"], [0.8888888888888888, \"#fdca26\"], [1.0, \"#f0f921\"]], \"type\": \"histogram2d\"}], \"histogram2dcontour\": [{\"colorbar\": {\"outlinewidth\": 0, \"ticks\": \"\"}, \"colorscale\": [[0.0, \"#0d0887\"], [0.1111111111111111, \"#46039f\"], [0.2222222222222222, \"#7201a8\"], [0.3333333333333333, \"#9c179e\"], [0.4444444444444444, \"#bd3786\"], [0.5555555555555556, \"#d8576b\"], [0.6666666666666666, \"#ed7953\"], [0.7777777777777778, \"#fb9f3a\"], [0.8888888888888888, \"#fdca26\"], [1.0, \"#f0f921\"]], \"type\": \"histogram2dcontour\"}], \"mesh3d\": [{\"colorbar\": {\"outlinewidth\": 0, \"ticks\": \"\"}, \"type\": \"mesh3d\"}], \"parcoords\": [{\"line\": {\"colorbar\": {\"outlinewidth\": 0, \"ticks\": \"\"}}, \"type\": \"parcoords\"}], \"pie\": [{\"automargin\": true, \"type\": \"pie\"}], \"scatter\": [{\"marker\": {\"colorbar\": {\"outlinewidth\": 0, \"ticks\": \"\"}}, \"type\": \"scatter\"}], \"scatter3d\": [{\"line\": {\"colorbar\": {\"outlinewidth\": 0, \"ticks\": \"\"}}, \"marker\": {\"colorbar\": {\"outlinewidth\": 0, \"ticks\": \"\"}}, \"type\": \"scatter3d\"}], \"scattercarpet\": [{\"marker\": {\"colorbar\": {\"outlinewidth\": 0, \"ticks\": \"\"}}, \"type\": \"scattercarpet\"}], \"scattergeo\": [{\"marker\": {\"colorbar\": {\"outlinewidth\": 0, \"ticks\": \"\"}}, \"type\": \"scattergeo\"}], \"scattergl\": [{\"marker\": {\"colorbar\": {\"outlinewidth\": 0, \"ticks\": \"\"}}, \"type\": \"scattergl\"}], \"scattermapbox\": [{\"marker\": {\"colorbar\": {\"outlinewidth\": 0, \"ticks\": \"\"}}, \"type\": \"scattermapbox\"}], \"scatterpolar\": [{\"marker\": {\"colorbar\": {\"outlinewidth\": 0, \"ticks\": \"\"}}, \"type\": \"scatterpolar\"}], \"scatterpolargl\": [{\"marker\": {\"colorbar\": {\"outlinewidth\": 0, \"ticks\": \"\"}}, \"type\": \"scatterpolargl\"}], \"scatterternary\": [{\"marker\": {\"colorbar\": {\"outlinewidth\": 0, \"ticks\": \"\"}}, \"type\": \"scatterternary\"}], \"surface\": [{\"colorbar\": {\"outlinewidth\": 0, \"ticks\": \"\"}, \"colorscale\": [[0.0, \"#0d0887\"], [0.1111111111111111, \"#46039f\"], [0.2222222222222222, \"#7201a8\"], [0.3333333333333333, \"#9c179e\"], [0.4444444444444444, \"#bd3786\"], [0.5555555555555556, \"#d8576b\"], [0.6666666666666666, \"#ed7953\"], [0.7777777777777778, \"#fb9f3a\"], [0.8888888888888888, \"#fdca26\"], [1.0, \"#f0f921\"]], \"type\": \"surface\"}], \"table\": [{\"cells\": {\"fill\": {\"color\": \"#EBF0F8\"}, \"line\": {\"color\": \"white\"}}, \"header\": {\"fill\": {\"color\": \"#C8D4E3\"}, \"line\": {\"color\": \"white\"}}, \"type\": \"table\"}]}, \"layout\": {\"annotationdefaults\": {\"arrowcolor\": \"#2a3f5f\", \"arrowhead\": 0, \"arrowwidth\": 1}, \"autotypenumbers\": \"strict\", \"coloraxis\": {\"colorbar\": {\"outlinewidth\": 0, \"ticks\": \"\"}}, \"colorscale\": {\"diverging\": [[0, \"#8e0152\"], [0.1, \"#c51b7d\"], [0.2, \"#de77ae\"], [0.3, \"#f1b6da\"], [0.4, \"#fde0ef\"], [0.5, \"#f7f7f7\"], [0.6, \"#e6f5d0\"], [0.7, \"#b8e186\"], [0.8, \"#7fbc41\"], [0.9, \"#4d9221\"], [1, \"#276419\"]], \"sequential\": [[0.0, \"#0d0887\"], [0.1111111111111111, \"#46039f\"], [0.2222222222222222, \"#7201a8\"], [0.3333333333333333, \"#9c179e\"], [0.4444444444444444, \"#bd3786\"], [0.5555555555555556, \"#d8576b\"], [0.6666666666666666, \"#ed7953\"], [0.7777777777777778, \"#fb9f3a\"], [0.8888888888888888, \"#fdca26\"], [1.0, \"#f0f921\"]], \"sequentialminus\": [[0.0, \"#0d0887\"], [0.1111111111111111, \"#46039f\"], [0.2222222222222222, \"#7201a8\"], [0.3333333333333333, \"#9c179e\"], [0.4444444444444444, \"#bd3786\"], [0.5555555555555556, \"#d8576b\"], [0.6666666666666666, \"#ed7953\"], [0.7777777777777778, \"#fb9f3a\"], [0.8888888888888888, \"#fdca26\"], [1.0, \"#f0f921\"]]}, \"colorway\": [\"#636efa\", \"#EF553B\", \"#00cc96\", \"#ab63fa\", \"#FFA15A\", \"#19d3f3\", \"#FF6692\", \"#B6E880\", \"#FF97FF\", \"#FECB52\"], \"font\": {\"color\": \"#2a3f5f\"}, \"geo\": {\"bgcolor\": \"white\", \"lakecolor\": \"white\", \"landcolor\": \"#E5ECF6\", \"showlakes\": true, \"showland\": true, \"subunitcolor\": \"white\"}, \"hoverlabel\": {\"align\": \"left\"}, \"hovermode\": \"closest\", \"mapbox\": {\"style\": \"light\"}, \"paper_bgcolor\": \"white\", \"plot_bgcolor\": \"#E5ECF6\", \"polar\": {\"angularaxis\": {\"gridcolor\": \"white\", \"linecolor\": \"white\", \"ticks\": \"\"}, \"bgcolor\": \"#E5ECF6\", \"radialaxis\": {\"gridcolor\": \"white\", \"linecolor\": \"white\", \"ticks\": \"\"}}, \"scene\": {\"xaxis\": {\"backgroundcolor\": \"#E5ECF6\", \"gridcolor\": \"white\", \"gridwidth\": 2, \"linecolor\": \"white\", \"showbackground\": true, \"ticks\": \"\", \"zerolinecolor\": \"white\"}, \"yaxis\": {\"backgroundcolor\": \"#E5ECF6\", \"gridcolor\": \"white\", \"gridwidth\": 2, \"linecolor\": \"white\", \"showbackground\": true, \"ticks\": \"\", \"zerolinecolor\": \"white\"}, \"zaxis\": {\"backgroundcolor\": \"#E5ECF6\", \"gridcolor\": \"white\", \"gridwidth\": 2, \"linecolor\": \"white\", \"showbackground\": true, \"ticks\": \"\", \"zerolinecolor\": \"white\"}}, \"shapedefaults\": {\"line\": {\"color\": \"#2a3f5f\"}}, \"ternary\": {\"aaxis\": {\"gridcolor\": \"white\", \"linecolor\": \"white\", \"ticks\": \"\"}, \"baxis\": {\"gridcolor\": \"white\", \"linecolor\": \"white\", \"ticks\": \"\"}, \"bgcolor\": \"#E5ECF6\", \"caxis\": {\"gridcolor\": \"white\", \"linecolor\": \"white\", \"ticks\": \"\"}}, \"title\": {\"x\": 0.05}, \"xaxis\": {\"automargin\": true, \"gridcolor\": \"white\", \"linecolor\": \"white\", \"ticks\": \"\", \"title\": {\"standoff\": 15}, \"zerolinecolor\": \"white\", \"zerolinewidth\": 2}, \"yaxis\": {\"automargin\": true, \"gridcolor\": \"white\", \"linecolor\": \"white\", \"ticks\": \"\", \"title\": {\"standoff\": 15}, \"zerolinecolor\": \"white\", \"zerolinewidth\": 2}}}},                        {\"responsive\": true}                    ).then(function(){\n                            \nvar gd = document.getElementById('01c02974-3535-48b5-8aa6-18de54c39417');\nvar x = new MutationObserver(function (mutations, observer) {{\n        var display = window.getComputedStyle(gd).display;\n        if (!display || display === 'none') {{\n            console.log([gd, 'removed!']);\n            Plotly.purge(gd);\n            observer.disconnect();\n        }}\n}});\n\n// Listen for the removal of the full notebook cells\nvar notebookContainer = gd.closest('#notebook-container');\nif (notebookContainer) {{\n    x.observe(notebookContainer, {childList: true});\n}}\n\n// Listen for the clearing of the current output cell\nvar outputEl = gd.closest('.output');\nif (outputEl) {{\n    x.observe(outputEl, {childList: true});\n}}\n\n                        })                };                            </script>        </div>\n</body>\n</html>"
          },
          "metadata": {},
          "output_type": "display_data"
        }
      ],
      "execution_count": null
    },
    {
      "cell_type": "code",
      "source": "tokenizer.oov_token",
      "metadata": {
        "tags": [],
        "cell_id": "00023-1177bef2-6784-4ba9-a3cb-45343d1c6a60",
        "deepnote_to_be_reexecuted": false,
        "source_hash": "90e2b7c0",
        "execution_millis": 0,
        "execution_start": 1618107241433,
        "deepnote_cell_type": "code"
      },
      "outputs": [],
      "execution_count": null
    },
    {
      "cell_type": "code",
      "metadata": {
        "tags": [],
        "cell_id": "00018-cbc5d737-8fa9-4f54-a286-3e3042215bad",
        "deepnote_to_be_reexecuted": false,
        "source_hash": "9aa010ec",
        "execution_millis": 450,
        "execution_start": 1618107040230,
        "deepnote_cell_type": "code"
      },
      "source": "test_input = \"The wild goose\"\nmax_length = 14\n\nwhile len(test_input.split()) < max_length:\n    encoded_input = tokenizer.texts_to_sequences([test_input])\n    encoded_input = pad_sequences(encoded_input, maxlen=max_length)\n    model_output = model.predict(encoded_input)[0][-1]\n    index = model_output.argmax()\n    if index == 0:\n        break\n    next_predicted_word = tokenizer.index_word[index]\n    test_input += f\" {next_predicted_word}\"",
      "outputs": [],
      "execution_count": null
    },
    {
      "cell_type": "code",
      "metadata": {
        "tags": [],
        "cell_id": "00019-5eb504a1-5cdb-4cb5-9f31-85519c33a8f2",
        "deepnote_to_be_reexecuted": false,
        "source_hash": "c811713f",
        "execution_millis": 6,
        "execution_start": 1618107042830,
        "deepnote_cell_type": "code"
      },
      "source": "test_input",
      "outputs": [
        {
          "output_type": "execute_result",
          "execution_count": 87,
          "data": {
            "text/plain": "'The wild goose joyful blooming buddha is bloomed the same little field is a'"
          },
          "metadata": {}
        }
      ],
      "execution_count": null
    },
    {
      "cell_type": "code",
      "metadata": {
        "tags": [],
        "cell_id": "00020-d7775fb1-1e51-4ade-8810-7455bdaf3cc3",
        "deepnote_to_be_reexecuted": false,
        "source_hash": "db24d0ca",
        "execution_millis": 9876,
        "execution_start": 1618107538568,
        "deepnote_cell_type": "code"
      },
      "source": "import datetime\nfrom datetime import datetime as dt\nimport os\n\ndatekey = dt.now().strftime(\"%d-%B-%Y\")\ndir_path = f\"../../saved_models/{datekey}\"\nif not os.path.isdir(dir_path):\n    os.makedirs(dir_path)\nweights_path = f\"../../saved_models/{datekey}/weights.h5\"\nsaved_model_path = f\"../../saved_models/{datekey}/saved_model.pb\"\nmodel.save_weights(weights_path)\nmodel.save(saved_model_path)",
      "outputs": [
        {
          "name": "stderr",
          "text": "WARNING:absl:Found untraced functions such as lstm_cell_10_layer_call_fn, lstm_cell_10_layer_call_and_return_conditional_losses, lstm_cell_11_layer_call_fn, lstm_cell_11_layer_call_and_return_conditional_losses, lstm_cell_10_layer_call_fn while saving (showing 5 of 10). These functions will not be directly callable after loading.\nWARNING:absl:Found untraced functions such as lstm_cell_10_layer_call_fn, lstm_cell_10_layer_call_and_return_conditional_losses, lstm_cell_11_layer_call_fn, lstm_cell_11_layer_call_and_return_conditional_losses, lstm_cell_10_layer_call_fn while saving (showing 5 of 10). These functions will not be directly callable after loading.\nINFO:tensorflow:Assets written to: ../../saved_models/11-April-2021/saved_model.pb/assets\nINFO:tensorflow:Assets written to: ../../saved_models/11-April-2021/saved_model.pb/assets\n",
          "output_type": "stream"
        }
      ],
      "execution_count": null
    },
    {
      "cell_type": "markdown",
      "source": "<a style='text-decoration:none;line-height:16px;display:flex;color:#5B5B62;padding:10px;justify-content:end;' href='https://deepnote.com?utm_source=created-in-deepnote-cell&projectId=2b46da0f-9118-4fef-a62c-5402bbd6e1e0' target=\"_blank\">\n<img alt='Created in deepnote.com' style='display:inline;max-height:16px;margin:0px;margin-right:7.5px;' src='data:image/svg+xml;base64,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' > </img>\nCreated in <span style='font-weight:600;margin-left:4px;'>Deepnote</span></a>",
      "metadata": {
        "tags": [],
        "created_in_deepnote_cell": true,
        "deepnote_cell_type": "markdown"
      }
    }
  ],
  "nbformat": 4,
  "nbformat_minor": 2,
  "metadata": {
    "orig_nbformat": 2,
    "deepnote": {
      "is_reactive": false
    },
    "deepnote_notebook_id": "c3c7a8b4-335a-4cae-b40a-b1eb1f1ed182",
    "deepnote_execution_queue": []
  }
}